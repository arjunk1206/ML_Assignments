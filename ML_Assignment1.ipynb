{
  "cells": [
    {
      "cell_type": "code",
      "execution_count": null,
      "metadata": {
        "id": "3CnE41n0sONv"
      },
      "outputs": [],
      "source": [
        "import pandas as pd\n",
        "import numpy as np\n",
        "import matplotlib.pyplot as plt\n",
        "from scipy.stats import norm"
      ]
    },
    {
      "cell_type": "code",
      "execution_count": null,
      "metadata": {
        "id": "zWMyb19itgD6"
      },
      "outputs": [],
      "source": [
        "data_frame = pd.read_csv(\"/content/Dsata Set for Assignment 1 (1).csv\")"
      ]
    },
    {
      "cell_type": "code",
      "execution_count": null,
      "metadata": {
        "id": "IBNhgBGkmC-C"
      },
      "outputs": [],
      "source": [
        "data_frame['diagnosis'] = data_frame['diagnosis'].replace('B', 0)\n",
        "data_frame['diagnosis'] = data_frame['diagnosis'].replace('M', 1)"
      ]
    },
    {
      "cell_type": "code",
      "execution_count": null,
      "metadata": {
        "colab": {
          "base_uri": "https://localhost:8080/"
        },
        "id": "AQZnl81gbIog",
        "outputId": "9075282a-03d4-4b9c-a079-551e58e6e184"
      },
      "outputs": [
        {
          "output_type": "execute_result",
          "data": {
            "text/plain": [
              "id                         0\n",
              "diagnosis                  0\n",
              "radius_mean                0\n",
              "texture_mean               0\n",
              "perimeter_mean             0\n",
              "area_mean                  0\n",
              "smoothness_mean            0\n",
              "compactness_mean           0\n",
              "concavity_mean             0\n",
              "concave points_mean        0\n",
              "symmetry_mean              0\n",
              "fractal_dimension_mean     0\n",
              "radius_se                  0\n",
              "texture_se                 0\n",
              "perimeter_se               0\n",
              "area_se                    0\n",
              "smoothness_se              0\n",
              "compactness_se             0\n",
              "concavity_se               0\n",
              "concave points_se          0\n",
              "symmetry_se                0\n",
              "fractal_dimension_se       0\n",
              "radius_worst               0\n",
              "texture_worst              0\n",
              "perimeter_worst            0\n",
              "area_worst                 0\n",
              "smoothness_worst           0\n",
              "compactness_worst          0\n",
              "concavity_worst            0\n",
              "concave points_worst       0\n",
              "symmetry_worst             0\n",
              "fractal_dimension_worst    0\n",
              "dtype: int64"
            ]
          },
          "metadata": {},
          "execution_count": 7
        }
      ],
      "source": [
        "df = data_frame\n",
        "df = df.dropna()\n",
        "df.isnull().sum()"
      ]
    },
    {
      "cell_type": "markdown",
      "metadata": {
        "id": "AOCTXdKwvrv7"
      },
      "source": [
        "FEATURE ENGINEERING TASK-1"
      ]
    },
    {
      "cell_type": "code",
      "execution_count": null,
      "metadata": {
        "id": "yAP15L56mVhz"
      },
      "outputs": [],
      "source": [
        "df_fe = data_frame\n",
        "columns = list(df_fe)\n",
        "columns.remove('id')\n",
        "columns.remove('diagnosis')\n"
      ]
    },
    {
      "cell_type": "code",
      "execution_count": null,
      "metadata": {
        "id": "u4Lmzi0kHZy-"
      },
      "outputs": [],
      "source": [
        "#filling null values with mean\n",
        "for col in columns:\n",
        "    df_fe = df_fe.fillna({col: df_fe[col].mean()})"
      ]
    },
    {
      "cell_type": "code",
      "execution_count": null,
      "metadata": {
        "colab": {
          "base_uri": "https://localhost:8080/"
        },
        "id": "h8TBgb5dul9g",
        "outputId": "7581e50c-d1ae-4d7d-dc14-d4d6a86d5979"
      },
      "outputs": [
        {
          "output_type": "execute_result",
          "data": {
            "text/plain": [
              "id                         0\n",
              "diagnosis                  0\n",
              "radius_mean                0\n",
              "texture_mean               0\n",
              "perimeter_mean             0\n",
              "area_mean                  0\n",
              "smoothness_mean            0\n",
              "compactness_mean           0\n",
              "concavity_mean             0\n",
              "concave points_mean        0\n",
              "symmetry_mean              0\n",
              "fractal_dimension_mean     0\n",
              "radius_se                  0\n",
              "texture_se                 0\n",
              "perimeter_se               0\n",
              "area_se                    0\n",
              "smoothness_se              0\n",
              "compactness_se             0\n",
              "concavity_se               0\n",
              "concave points_se          0\n",
              "symmetry_se                0\n",
              "fractal_dimension_se       0\n",
              "radius_worst               0\n",
              "texture_worst              0\n",
              "perimeter_worst            0\n",
              "area_worst                 0\n",
              "smoothness_worst           0\n",
              "compactness_worst          0\n",
              "concavity_worst            0\n",
              "concave points_worst       0\n",
              "symmetry_worst             0\n",
              "fractal_dimension_worst    0\n",
              "dtype: int64"
            ]
          },
          "metadata": {},
          "execution_count": 10
        }
      ],
      "source": [
        "df_fe.isnull().sum()"
      ]
    },
    {
      "cell_type": "markdown",
      "metadata": {
        "id": "UyVX-J7bvytg"
      },
      "source": [
        "FEATURE ENGINEERING TASK-2"
      ]
    },
    {
      "cell_type": "code",
      "execution_count": null,
      "metadata": {
        "id": "scm2dN63v2sp"
      },
      "outputs": [],
      "source": [
        "#normalising data\n",
        "norm_df = df_fe\n",
        "for col in columns:\n",
        "    norm_df[col] = ( df_fe[col] - df_fe[col].mean() ) / df_fe[col].std()"
      ]
    },
    {
      "cell_type": "code",
      "source": [
        "norm_df = norm_df.sample(frac = 1)\n",
        "df = df.sample(frac=1)"
      ],
      "metadata": {
        "id": "P71Zxepcunu8"
      },
      "execution_count": null,
      "outputs": []
    },
    {
      "cell_type": "markdown",
      "metadata": {
        "id": "1MHEBNetbWW4"
      },
      "source": [
        "# **PART-A PERCEPTRON ALGORITHM**"
      ]
    },
    {
      "cell_type": "code",
      "execution_count": null,
      "metadata": {
        "id": "UC9FJ0rdW1pC"
      },
      "outputs": [],
      "source": [
        "x = np.array(df[columns])\n",
        "y = np.array(df['diagnosis'])"
      ]
    },
    {
      "cell_type": "code",
      "execution_count": null,
      "metadata": {
        "id": "Qvl_hevDujP4"
      },
      "outputs": [],
      "source": [
        "train_size = int(0.67 * len(df))\n",
        "x_test = x[train_size:]\n",
        "x_train = x[:train_size]\n"
      ]
    },
    {
      "cell_type": "code",
      "execution_count": null,
      "metadata": {
        "id": "4KkllkeBZzkR"
      },
      "outputs": [],
      "source": [
        "y_test = y[train_size:]\n",
        "y_train = y[:train_size]\n"
      ]
    },
    {
      "cell_type": "code",
      "execution_count": null,
      "metadata": {
        "id": "FC1z_e6KWg1-"
      },
      "outputs": [],
      "source": [
        "#perceptron \n",
        "def perceptron(X_train, Y_train, learning_rate, iter, X_test, Y_test):\n",
        "           bias = 0\n",
        "           n_samples, n_features =  X_train.shape    \n",
        "           weights = np.zeros(n_features)\n",
        "           for it in range(iter):\n",
        "               for i in range(n_samples):\n",
        "                   lin_op = np.dot(X_train[i], weights) + bias\n",
        "                   predicted_op = np.where(lin_op>=0, 1, 0)\n",
        "                   update = learning_rate * (Y_train[i] - predicted_op)\n",
        "                   weights += update * X_train[i]\n",
        "                   bias += update \n",
        "           #testing \n",
        "           lin_op = np.dot(X_test, weights) + bias\n",
        "           y_predicted =   np.where(lin_op >= 0, 1, 0)      \n",
        "           accuracy =  np.sum(Y_test == y_predicted) / len(Y_test)\n",
        "           return weights, bias, accuracy\n"
      ]
    },
    {
      "cell_type": "markdown",
      "metadata": {
        "id": "S5dya3UzCT24"
      },
      "source": [
        "# PM1"
      ]
    },
    {
      "cell_type": "code",
      "execution_count": null,
      "metadata": {
        "colab": {
          "base_uri": "https://localhost:8080/"
        },
        "id": "ZTdx0VVLe-qG",
        "outputId": "ee3a9f22-a1db-47e9-ca0f-1d176453bcb7"
      },
      "outputs": [
        {
          "output_type": "stream",
          "name": "stdout",
          "text": [
            "0.8870967741935484\n"
          ]
        }
      ],
      "source": [
        "#training for not normalised(nn) data\n",
        "x_train_PM1 = x_train\n",
        "y_train_PM1 = y_train\n",
        "x_test_PM1 = x_test\n",
        "y_test_PM1 = y_test\n",
        "lr_PM1 = 0.01\n",
        "iter_PM1 = 100\n",
        "w_PM1, bias_PM1, accuracy_PM1 =  perceptron(x_train_PM1, y_train_PM1, lr_PM1, iter_PM1, x_test_PM1, y_test_PM1)\n",
        "print(accuracy_PM1)"
      ]
    },
    {
      "cell_type": "markdown",
      "metadata": {
        "id": "aAkdtYS3CF1O"
      },
      "source": [
        "# PM2"
      ]
    },
    {
      "cell_type": "code",
      "execution_count": null,
      "metadata": {
        "id": "fBUHl9j3Blj-",
        "colab": {
          "base_uri": "https://localhost:8080/",
          "height": 505
        },
        "outputId": "93262d7d-8a2b-4daf-c809-be9446549b57"
      },
      "outputs": [
        {
          "output_type": "execute_result",
          "data": {
            "text/plain": [
              "            id  diagnosis  radius_mean  texture_mean  perimeter_mean  \\\n",
              "261     888264          1        17.35         23.06          111.00   \n",
              "98      862485          0        11.60         12.84           74.34   \n",
              "449  911157302          1        21.10         20.52          138.10   \n",
              "7     84458202          1        13.71         20.83           90.20   \n",
              "399     904357          0        11.80         17.26           75.26   \n",
              "..         ...        ...          ...           ...             ...   \n",
              "26      852763          1        14.58         21.53           97.41   \n",
              "135     868202          1        12.77         22.47           81.72   \n",
              "10      845636          1        16.02         23.24          102.70   \n",
              "241     883539          0        12.42         15.04           78.61   \n",
              "453     911201          0        14.53         13.98           93.86   \n",
              "\n",
              "     area_mean  smoothness_mean  compactness_mean  concavity_mean  \\\n",
              "261      933.1          0.08662           0.06290         0.02891   \n",
              "98       412.6          0.08983           0.07525         0.04196   \n",
              "449     1384.0          0.09684           0.11750         0.15720   \n",
              "7        577.9          0.11890           0.16450         0.09366   \n",
              "399      431.9          0.09087           0.06232         0.02853   \n",
              "..         ...              ...               ...             ...   \n",
              "26       644.8          0.10540           0.18680         0.14250   \n",
              "135      506.3          0.09055           0.05761         0.04711   \n",
              "10       797.8          0.08206           0.06669         0.03299   \n",
              "241      476.5          0.07926           0.03393         0.01053   \n",
              "453      644.2          0.10990           0.09242         0.06895   \n",
              "\n",
              "     concave points_mean  ...  radius_worst  texture_worst  perimeter_worst  \\\n",
              "261              0.02837  ...         19.85          31.47           128.20   \n",
              "98               0.03350  ...         13.06          17.16            82.96   \n",
              "449              0.11550  ...         25.68          32.07           168.20   \n",
              "7                0.05985  ...         17.06          28.14           110.60   \n",
              "399              0.01638  ...         13.45          24.49            86.00   \n",
              "..                   ...  ...           ...            ...              ...   \n",
              "26               0.08783  ...         17.62          33.21           122.40   \n",
              "135              0.02704  ...         14.49          33.37            92.04   \n",
              "10               0.03323  ...         19.19          33.88           123.80   \n",
              "241              0.01108  ...         13.20          20.37            83.85   \n",
              "453              0.06495  ...         15.80          16.93           103.10   \n",
              "\n",
              "     area_worst  smoothness_worst  compactness_worst  concavity_worst  \\\n",
              "261      1218.0            0.1240            0.14860          0.12110   \n",
              "98        512.5            0.1431            0.18510          0.19220   \n",
              "449      2022.0            0.1368            0.31010          0.43990   \n",
              "7         897.0            0.1654            0.36820          0.26780   \n",
              "399       562.0            0.1244            0.17260          0.14490   \n",
              "..          ...               ...                ...              ...   \n",
              "26        896.9            0.1525            0.66430          0.55390   \n",
              "135       653.6            0.1419            0.15230          0.21770   \n",
              "10       1150.0            0.1181            0.15510          0.14590   \n",
              "241       543.4            0.1037            0.07776          0.06243   \n",
              "453       749.9            0.1347            0.14780          0.13730   \n",
              "\n",
              "     concave points_worst  symmetry_worst  fractal_dimension_worst  \n",
              "261               0.08235          0.2452                  0.06515  \n",
              "98                0.08449          0.2772                  0.08756  \n",
              "449               0.22800          0.2268                  0.07425  \n",
              "7                 0.15560          0.3196                  0.11510  \n",
              "399               0.05356          0.2779                  0.08121  \n",
              "..                    ...             ...                      ...  \n",
              "26                0.27010          0.4264                  0.12750  \n",
              "135               0.09331          0.2829                  0.08067  \n",
              "10                0.09975          0.2948                  0.08452  \n",
              "241               0.04052          0.2901                  0.06783  \n",
              "453               0.10690          0.2606                  0.07810  \n",
              "\n",
              "[563 rows x 32 columns]"
            ],
            "text/html": [
              "\n",
              "  <div id=\"df-bde717f4-dc51-4b7b-ba6b-b7dbbba921d6\">\n",
              "    <div class=\"colab-df-container\">\n",
              "      <div>\n",
              "<style scoped>\n",
              "    .dataframe tbody tr th:only-of-type {\n",
              "        vertical-align: middle;\n",
              "    }\n",
              "\n",
              "    .dataframe tbody tr th {\n",
              "        vertical-align: top;\n",
              "    }\n",
              "\n",
              "    .dataframe thead th {\n",
              "        text-align: right;\n",
              "    }\n",
              "</style>\n",
              "<table border=\"1\" class=\"dataframe\">\n",
              "  <thead>\n",
              "    <tr style=\"text-align: right;\">\n",
              "      <th></th>\n",
              "      <th>id</th>\n",
              "      <th>diagnosis</th>\n",
              "      <th>radius_mean</th>\n",
              "      <th>texture_mean</th>\n",
              "      <th>perimeter_mean</th>\n",
              "      <th>area_mean</th>\n",
              "      <th>smoothness_mean</th>\n",
              "      <th>compactness_mean</th>\n",
              "      <th>concavity_mean</th>\n",
              "      <th>concave points_mean</th>\n",
              "      <th>...</th>\n",
              "      <th>radius_worst</th>\n",
              "      <th>texture_worst</th>\n",
              "      <th>perimeter_worst</th>\n",
              "      <th>area_worst</th>\n",
              "      <th>smoothness_worst</th>\n",
              "      <th>compactness_worst</th>\n",
              "      <th>concavity_worst</th>\n",
              "      <th>concave points_worst</th>\n",
              "      <th>symmetry_worst</th>\n",
              "      <th>fractal_dimension_worst</th>\n",
              "    </tr>\n",
              "  </thead>\n",
              "  <tbody>\n",
              "    <tr>\n",
              "      <th>261</th>\n",
              "      <td>888264</td>\n",
              "      <td>1</td>\n",
              "      <td>17.35</td>\n",
              "      <td>23.06</td>\n",
              "      <td>111.00</td>\n",
              "      <td>933.1</td>\n",
              "      <td>0.08662</td>\n",
              "      <td>0.06290</td>\n",
              "      <td>0.02891</td>\n",
              "      <td>0.02837</td>\n",
              "      <td>...</td>\n",
              "      <td>19.85</td>\n",
              "      <td>31.47</td>\n",
              "      <td>128.20</td>\n",
              "      <td>1218.0</td>\n",
              "      <td>0.1240</td>\n",
              "      <td>0.14860</td>\n",
              "      <td>0.12110</td>\n",
              "      <td>0.08235</td>\n",
              "      <td>0.2452</td>\n",
              "      <td>0.06515</td>\n",
              "    </tr>\n",
              "    <tr>\n",
              "      <th>98</th>\n",
              "      <td>862485</td>\n",
              "      <td>0</td>\n",
              "      <td>11.60</td>\n",
              "      <td>12.84</td>\n",
              "      <td>74.34</td>\n",
              "      <td>412.6</td>\n",
              "      <td>0.08983</td>\n",
              "      <td>0.07525</td>\n",
              "      <td>0.04196</td>\n",
              "      <td>0.03350</td>\n",
              "      <td>...</td>\n",
              "      <td>13.06</td>\n",
              "      <td>17.16</td>\n",
              "      <td>82.96</td>\n",
              "      <td>512.5</td>\n",
              "      <td>0.1431</td>\n",
              "      <td>0.18510</td>\n",
              "      <td>0.19220</td>\n",
              "      <td>0.08449</td>\n",
              "      <td>0.2772</td>\n",
              "      <td>0.08756</td>\n",
              "    </tr>\n",
              "    <tr>\n",
              "      <th>449</th>\n",
              "      <td>911157302</td>\n",
              "      <td>1</td>\n",
              "      <td>21.10</td>\n",
              "      <td>20.52</td>\n",
              "      <td>138.10</td>\n",
              "      <td>1384.0</td>\n",
              "      <td>0.09684</td>\n",
              "      <td>0.11750</td>\n",
              "      <td>0.15720</td>\n",
              "      <td>0.11550</td>\n",
              "      <td>...</td>\n",
              "      <td>25.68</td>\n",
              "      <td>32.07</td>\n",
              "      <td>168.20</td>\n",
              "      <td>2022.0</td>\n",
              "      <td>0.1368</td>\n",
              "      <td>0.31010</td>\n",
              "      <td>0.43990</td>\n",
              "      <td>0.22800</td>\n",
              "      <td>0.2268</td>\n",
              "      <td>0.07425</td>\n",
              "    </tr>\n",
              "    <tr>\n",
              "      <th>7</th>\n",
              "      <td>84458202</td>\n",
              "      <td>1</td>\n",
              "      <td>13.71</td>\n",
              "      <td>20.83</td>\n",
              "      <td>90.20</td>\n",
              "      <td>577.9</td>\n",
              "      <td>0.11890</td>\n",
              "      <td>0.16450</td>\n",
              "      <td>0.09366</td>\n",
              "      <td>0.05985</td>\n",
              "      <td>...</td>\n",
              "      <td>17.06</td>\n",
              "      <td>28.14</td>\n",
              "      <td>110.60</td>\n",
              "      <td>897.0</td>\n",
              "      <td>0.1654</td>\n",
              "      <td>0.36820</td>\n",
              "      <td>0.26780</td>\n",
              "      <td>0.15560</td>\n",
              "      <td>0.3196</td>\n",
              "      <td>0.11510</td>\n",
              "    </tr>\n",
              "    <tr>\n",
              "      <th>399</th>\n",
              "      <td>904357</td>\n",
              "      <td>0</td>\n",
              "      <td>11.80</td>\n",
              "      <td>17.26</td>\n",
              "      <td>75.26</td>\n",
              "      <td>431.9</td>\n",
              "      <td>0.09087</td>\n",
              "      <td>0.06232</td>\n",
              "      <td>0.02853</td>\n",
              "      <td>0.01638</td>\n",
              "      <td>...</td>\n",
              "      <td>13.45</td>\n",
              "      <td>24.49</td>\n",
              "      <td>86.00</td>\n",
              "      <td>562.0</td>\n",
              "      <td>0.1244</td>\n",
              "      <td>0.17260</td>\n",
              "      <td>0.14490</td>\n",
              "      <td>0.05356</td>\n",
              "      <td>0.2779</td>\n",
              "      <td>0.08121</td>\n",
              "    </tr>\n",
              "    <tr>\n",
              "      <th>...</th>\n",
              "      <td>...</td>\n",
              "      <td>...</td>\n",
              "      <td>...</td>\n",
              "      <td>...</td>\n",
              "      <td>...</td>\n",
              "      <td>...</td>\n",
              "      <td>...</td>\n",
              "      <td>...</td>\n",
              "      <td>...</td>\n",
              "      <td>...</td>\n",
              "      <td>...</td>\n",
              "      <td>...</td>\n",
              "      <td>...</td>\n",
              "      <td>...</td>\n",
              "      <td>...</td>\n",
              "      <td>...</td>\n",
              "      <td>...</td>\n",
              "      <td>...</td>\n",
              "      <td>...</td>\n",
              "      <td>...</td>\n",
              "      <td>...</td>\n",
              "    </tr>\n",
              "    <tr>\n",
              "      <th>26</th>\n",
              "      <td>852763</td>\n",
              "      <td>1</td>\n",
              "      <td>14.58</td>\n",
              "      <td>21.53</td>\n",
              "      <td>97.41</td>\n",
              "      <td>644.8</td>\n",
              "      <td>0.10540</td>\n",
              "      <td>0.18680</td>\n",
              "      <td>0.14250</td>\n",
              "      <td>0.08783</td>\n",
              "      <td>...</td>\n",
              "      <td>17.62</td>\n",
              "      <td>33.21</td>\n",
              "      <td>122.40</td>\n",
              "      <td>896.9</td>\n",
              "      <td>0.1525</td>\n",
              "      <td>0.66430</td>\n",
              "      <td>0.55390</td>\n",
              "      <td>0.27010</td>\n",
              "      <td>0.4264</td>\n",
              "      <td>0.12750</td>\n",
              "    </tr>\n",
              "    <tr>\n",
              "      <th>135</th>\n",
              "      <td>868202</td>\n",
              "      <td>1</td>\n",
              "      <td>12.77</td>\n",
              "      <td>22.47</td>\n",
              "      <td>81.72</td>\n",
              "      <td>506.3</td>\n",
              "      <td>0.09055</td>\n",
              "      <td>0.05761</td>\n",
              "      <td>0.04711</td>\n",
              "      <td>0.02704</td>\n",
              "      <td>...</td>\n",
              "      <td>14.49</td>\n",
              "      <td>33.37</td>\n",
              "      <td>92.04</td>\n",
              "      <td>653.6</td>\n",
              "      <td>0.1419</td>\n",
              "      <td>0.15230</td>\n",
              "      <td>0.21770</td>\n",
              "      <td>0.09331</td>\n",
              "      <td>0.2829</td>\n",
              "      <td>0.08067</td>\n",
              "    </tr>\n",
              "    <tr>\n",
              "      <th>10</th>\n",
              "      <td>845636</td>\n",
              "      <td>1</td>\n",
              "      <td>16.02</td>\n",
              "      <td>23.24</td>\n",
              "      <td>102.70</td>\n",
              "      <td>797.8</td>\n",
              "      <td>0.08206</td>\n",
              "      <td>0.06669</td>\n",
              "      <td>0.03299</td>\n",
              "      <td>0.03323</td>\n",
              "      <td>...</td>\n",
              "      <td>19.19</td>\n",
              "      <td>33.88</td>\n",
              "      <td>123.80</td>\n",
              "      <td>1150.0</td>\n",
              "      <td>0.1181</td>\n",
              "      <td>0.15510</td>\n",
              "      <td>0.14590</td>\n",
              "      <td>0.09975</td>\n",
              "      <td>0.2948</td>\n",
              "      <td>0.08452</td>\n",
              "    </tr>\n",
              "    <tr>\n",
              "      <th>241</th>\n",
              "      <td>883539</td>\n",
              "      <td>0</td>\n",
              "      <td>12.42</td>\n",
              "      <td>15.04</td>\n",
              "      <td>78.61</td>\n",
              "      <td>476.5</td>\n",
              "      <td>0.07926</td>\n",
              "      <td>0.03393</td>\n",
              "      <td>0.01053</td>\n",
              "      <td>0.01108</td>\n",
              "      <td>...</td>\n",
              "      <td>13.20</td>\n",
              "      <td>20.37</td>\n",
              "      <td>83.85</td>\n",
              "      <td>543.4</td>\n",
              "      <td>0.1037</td>\n",
              "      <td>0.07776</td>\n",
              "      <td>0.06243</td>\n",
              "      <td>0.04052</td>\n",
              "      <td>0.2901</td>\n",
              "      <td>0.06783</td>\n",
              "    </tr>\n",
              "    <tr>\n",
              "      <th>453</th>\n",
              "      <td>911201</td>\n",
              "      <td>0</td>\n",
              "      <td>14.53</td>\n",
              "      <td>13.98</td>\n",
              "      <td>93.86</td>\n",
              "      <td>644.2</td>\n",
              "      <td>0.10990</td>\n",
              "      <td>0.09242</td>\n",
              "      <td>0.06895</td>\n",
              "      <td>0.06495</td>\n",
              "      <td>...</td>\n",
              "      <td>15.80</td>\n",
              "      <td>16.93</td>\n",
              "      <td>103.10</td>\n",
              "      <td>749.9</td>\n",
              "      <td>0.1347</td>\n",
              "      <td>0.14780</td>\n",
              "      <td>0.13730</td>\n",
              "      <td>0.10690</td>\n",
              "      <td>0.2606</td>\n",
              "      <td>0.07810</td>\n",
              "    </tr>\n",
              "  </tbody>\n",
              "</table>\n",
              "<p>563 rows × 32 columns</p>\n",
              "</div>\n",
              "      <button class=\"colab-df-convert\" onclick=\"convertToInteractive('df-bde717f4-dc51-4b7b-ba6b-b7dbbba921d6')\"\n",
              "              title=\"Convert this dataframe to an interactive table.\"\n",
              "              style=\"display:none;\">\n",
              "        \n",
              "  <svg xmlns=\"http://www.w3.org/2000/svg\" height=\"24px\"viewBox=\"0 0 24 24\"\n",
              "       width=\"24px\">\n",
              "    <path d=\"M0 0h24v24H0V0z\" fill=\"none\"/>\n",
              "    <path d=\"M18.56 5.44l.94 2.06.94-2.06 2.06-.94-2.06-.94-.94-2.06-.94 2.06-2.06.94zm-11 1L8.5 8.5l.94-2.06 2.06-.94-2.06-.94L8.5 2.5l-.94 2.06-2.06.94zm10 10l.94 2.06.94-2.06 2.06-.94-2.06-.94-.94-2.06-.94 2.06-2.06.94z\"/><path d=\"M17.41 7.96l-1.37-1.37c-.4-.4-.92-.59-1.43-.59-.52 0-1.04.2-1.43.59L10.3 9.45l-7.72 7.72c-.78.78-.78 2.05 0 2.83L4 21.41c.39.39.9.59 1.41.59.51 0 1.02-.2 1.41-.59l7.78-7.78 2.81-2.81c.8-.78.8-2.07 0-2.86zM5.41 20L4 18.59l7.72-7.72 1.47 1.35L5.41 20z\"/>\n",
              "  </svg>\n",
              "      </button>\n",
              "      \n",
              "  <style>\n",
              "    .colab-df-container {\n",
              "      display:flex;\n",
              "      flex-wrap:wrap;\n",
              "      gap: 12px;\n",
              "    }\n",
              "\n",
              "    .colab-df-convert {\n",
              "      background-color: #E8F0FE;\n",
              "      border: none;\n",
              "      border-radius: 50%;\n",
              "      cursor: pointer;\n",
              "      display: none;\n",
              "      fill: #1967D2;\n",
              "      height: 32px;\n",
              "      padding: 0 0 0 0;\n",
              "      width: 32px;\n",
              "    }\n",
              "\n",
              "    .colab-df-convert:hover {\n",
              "      background-color: #E2EBFA;\n",
              "      box-shadow: 0px 1px 2px rgba(60, 64, 67, 0.3), 0px 1px 3px 1px rgba(60, 64, 67, 0.15);\n",
              "      fill: #174EA6;\n",
              "    }\n",
              "\n",
              "    [theme=dark] .colab-df-convert {\n",
              "      background-color: #3B4455;\n",
              "      fill: #D2E3FC;\n",
              "    }\n",
              "\n",
              "    [theme=dark] .colab-df-convert:hover {\n",
              "      background-color: #434B5C;\n",
              "      box-shadow: 0px 1px 3px 1px rgba(0, 0, 0, 0.15);\n",
              "      filter: drop-shadow(0px 1px 2px rgba(0, 0, 0, 0.3));\n",
              "      fill: #FFFFFF;\n",
              "    }\n",
              "  </style>\n",
              "\n",
              "      <script>\n",
              "        const buttonEl =\n",
              "          document.querySelector('#df-bde717f4-dc51-4b7b-ba6b-b7dbbba921d6 button.colab-df-convert');\n",
              "        buttonEl.style.display =\n",
              "          google.colab.kernel.accessAllowed ? 'block' : 'none';\n",
              "\n",
              "        async function convertToInteractive(key) {\n",
              "          const element = document.querySelector('#df-bde717f4-dc51-4b7b-ba6b-b7dbbba921d6');\n",
              "          const dataTable =\n",
              "            await google.colab.kernel.invokeFunction('convertToInteractive',\n",
              "                                                     [key], {});\n",
              "          if (!dataTable) return;\n",
              "\n",
              "          const docLinkHtml = 'Like what you see? Visit the ' +\n",
              "            '<a target=\"_blank\" href=https://colab.research.google.com/notebooks/data_table.ipynb>data table notebook</a>'\n",
              "            + ' to learn more about interactive tables.';\n",
              "          element.innerHTML = '';\n",
              "          dataTable['output_type'] = 'display_data';\n",
              "          await google.colab.output.renderOutput(dataTable, element);\n",
              "          const docLink = document.createElement('div');\n",
              "          docLink.innerHTML = docLinkHtml;\n",
              "          element.appendChild(docLink);\n",
              "        }\n",
              "      </script>\n",
              "    </div>\n",
              "  </div>\n",
              "  "
            ]
          },
          "metadata": {},
          "execution_count": 18
        }
      ],
      "source": [
        "#shuffling training examples\n",
        "df2 = df.sample(frac = 1)\n",
        "df2"
      ]
    },
    {
      "cell_type": "code",
      "execution_count": null,
      "metadata": {
        "id": "fWaMNpPcEutr"
      },
      "outputs": [],
      "source": [
        "x_PM2 = np.array(df2[columns])\n",
        "y_PM2 = np.array(df2['diagnosis'])"
      ]
    },
    {
      "cell_type": "code",
      "execution_count": null,
      "metadata": {
        "id": "8QHzK4yTOG6q"
      },
      "outputs": [],
      "source": [
        "x_train_PM2 = x_PM2[:train_size]\n",
        "x_test_PM2 = x_PM2[train_size:]\n",
        "y_train_PM2 = y_PM2[:train_size]\n",
        "y_test_PM2 = y_PM2[train_size:]\n"
      ]
    },
    {
      "cell_type": "code",
      "execution_count": null,
      "metadata": {
        "colab": {
          "base_uri": "https://localhost:8080/"
        },
        "id": "RKtGbkeEO-ze",
        "outputId": "b971b67a-f272-47d9-e929-d34e86af0011"
      },
      "outputs": [
        {
          "output_type": "execute_result",
          "data": {
            "text/plain": [
              "0.946236559139785"
            ]
          },
          "metadata": {},
          "execution_count": 21
        }
      ],
      "source": [
        "lr_PM2 = 0.01\n",
        "iter_PM2 = 100\n",
        "weights_PM2, bias_PM2, accuracy_PM2 = perceptron(x_train_PM2, y_train_PM2, lr_PM2, iter_PM2, x_test_PM2, y_test_PM2)\n",
        "accuracy_PM2"
      ]
    },
    {
      "cell_type": "markdown",
      "metadata": {
        "id": "KZxHGgoaJDa5"
      },
      "source": [
        "# PM3"
      ]
    },
    {
      "cell_type": "code",
      "execution_count": null,
      "metadata": {
        "id": "xXjB1DHIJap6"
      },
      "outputs": [],
      "source": [
        "columns_norm = list(norm_df)\n",
        "columns_norm.remove('diagnosis')\n",
        "columns_norm.remove('id')\n",
        "x_norm = np.array(norm_df[columns_norm])\n",
        "y_norm = np.array(norm_df['diagnosis'])"
      ]
    },
    {
      "cell_type": "code",
      "execution_count": null,
      "metadata": {
        "id": "1up4f_DiLwu8"
      },
      "outputs": [],
      "source": [
        "train_size_norm = int(0.67 * len(norm_df))\n",
        "x_norm_test = x_norm[train_size_norm:]\n",
        "x_norm_train = x_norm[:train_size_norm]"
      ]
    },
    {
      "cell_type": "code",
      "execution_count": null,
      "metadata": {
        "id": "Gmx6tENtL3et"
      },
      "outputs": [],
      "source": [
        "y_norm_test = y_norm[train_size_norm:]\n",
        "y_norm_train= y_norm[:train_size_norm]"
      ]
    },
    {
      "cell_type": "code",
      "execution_count": null,
      "metadata": {
        "id": "gzMRQc3tMkDC"
      },
      "outputs": [],
      "source": [
        "x_PM3_train = x_norm_train\n",
        "x_PM3_test = x_norm_test\n",
        "y_PM3_train = y_norm_train\n",
        "y_PM3_test = y_norm_test"
      ]
    },
    {
      "cell_type": "code",
      "execution_count": null,
      "metadata": {
        "colab": {
          "base_uri": "https://localhost:8080/"
        },
        "id": "y1tr6gE7OUcV",
        "outputId": "89cffef3-9a62-4b24-d71e-426c4a93b595"
      },
      "outputs": [
        {
          "output_type": "stream",
          "name": "stdout",
          "text": [
            "0.9308510638297872\n"
          ]
        }
      ],
      "source": [
        "iter_PM3 = 100\n",
        "lr_PM3= 0.01\n",
        "weights_PM3, bias_PM3, accuracy_PM3 =  perceptron(x_PM3_train, y_PM3_train, lr_PM3, iter_PM3, x_PM3_test, y_PM3_test)\n",
        "print(accuracy_PM3)"
      ]
    },
    {
      "cell_type": "markdown",
      "metadata": {
        "id": "r0A-FOrsCdsl"
      },
      "source": [
        "# PM4"
      ]
    },
    {
      "cell_type": "code",
      "execution_count": null,
      "metadata": {
        "id": "bCTouoAMPDlh",
        "colab": {
          "base_uri": "https://localhost:8080/",
          "height": 505
        },
        "outputId": "0ab3a1ed-d71b-4f2c-901e-c2d38d276773"
      },
      "outputs": [
        {
          "output_type": "execute_result",
          "data": {
            "text/plain": [
              "     perimeter_se  symmetry_worst  perimeter_worst  concave points_se  \\\n",
              "0           1.955          0.2305            83.51           0.015530   \n",
              "1           2.155          0.2710            73.20           0.000000   \n",
              "2           1.164          0.2733            78.27           0.008849   \n",
              "3           3.466          0.2866           125.40           0.022340   \n",
              "4           2.397          0.3207            96.31           0.010650   \n",
              "..            ...             ...              ...                ...   \n",
              "558         2.587          0.3151           162.30           0.008185   \n",
              "559         2.567          0.2107            93.96           0.004821   \n",
              "560         2.044          0.2506            98.84           0.009057   \n",
              "561         2.099          0.2678            97.59           0.009366   \n",
              "562         2.344          0.2394           117.20           0.010330   \n",
              "\n",
              "          id  concavity_se  texture_worst  texture_se  compactness_mean  \\\n",
              "0    9111596      0.066630          28.18      1.5540           0.10640   \n",
              "1     871642      0.000000          19.20      1.9250           0.04302   \n",
              "2    8910748      0.012820          16.18      0.5293           0.07608   \n",
              "3     907914      0.079260          27.57      0.8749           0.22250   \n",
              "4     904689      0.034520          24.61      1.2990           0.07899   \n",
              "..       ...           ...            ...         ...               ...   \n",
              "558   887549      0.021170          39.16      1.0330           0.10880   \n",
              "559   893548      0.002831          17.40      0.8285           0.03735   \n",
              "560  8813129      0.022590          23.60      0.8907           0.04994   \n",
              "561   862009      0.018720          25.94      1.3730           0.08165   \n",
              "562  9010872      0.018320          25.45      1.4390           0.08468   \n",
              "\n",
              "     area_se  ...  perimeter_mean  fractal_dimension_worst  symmetry_mean  \\\n",
              "0      20.24  ...           76.83                  0.09952         0.1349   \n",
              "1      21.98  ...           67.49                  0.06164         0.1928   \n",
              "2      13.17  ...           72.23                  0.08022         0.1769   \n",
              "3      24.19  ...          102.10                  0.11550         0.2041   \n",
              "4      20.21  ...           84.18                  0.07247         0.1874   \n",
              "..       ...  ...             ...                      ...            ...   \n",
              "558    52.34  ...          132.90                  0.07999         0.1814   \n",
              "559    33.01  ...           82.71                  0.06580         0.1453   \n",
              "560    24.68  ...           84.55                  0.07623         0.1496   \n",
              "561    25.22  ...           86.60                  0.06603         0.1638   \n",
              "562    33.58  ...          106.60                  0.06469         0.1495   \n",
              "\n",
              "     area_mean  area_worst  smoothness_mean  radius_worst  compactness_worst  \\\n",
              "0        432.0       507.2          0.06613         12.79            0.33990   \n",
              "1        349.6       408.3          0.08792         11.54            0.06791   \n",
              "2        388.0       457.5          0.09834         12.32            0.15070   \n",
              "3        685.0       832.7          0.09947         16.35            0.70900   \n",
              "4        525.2       621.9          0.07351         14.13            0.23180   \n",
              "..         ...         ...              ...           ...                ...   \n",
              "558     1288.0      1844.0          0.10000         24.33            0.29450   \n",
              "559      530.6       672.4          0.08352         14.73            0.05847   \n",
              "560      546.4       708.8          0.08445         15.14            0.13110   \n",
              "561      555.1       699.4          0.10220         15.10            0.17510   \n",
              "562      838.1      1009.0          0.09686         18.13            0.16790   \n",
              "\n",
              "     smoothness_se  concavity_worst  \n",
              "0         0.006854          0.32180  \n",
              "1         0.008713          0.00000  \n",
              "2         0.006472          0.12750  \n",
              "3         0.006965          0.90190  \n",
              "4         0.003629          0.16040  \n",
              "..             ...              ...  \n",
              "558       0.005043          0.37880  \n",
              "559       0.004148          0.01824  \n",
              "560       0.006032          0.17860  \n",
              "561       0.005884          0.13810  \n",
              "562       0.007257          0.16630  \n",
              "\n",
              "[563 rows x 32 columns]"
            ],
            "text/html": [
              "\n",
              "  <div id=\"df-b3e1be0c-4807-4233-8bf6-b9967d87370c\">\n",
              "    <div class=\"colab-df-container\">\n",
              "      <div>\n",
              "<style scoped>\n",
              "    .dataframe tbody tr th:only-of-type {\n",
              "        vertical-align: middle;\n",
              "    }\n",
              "\n",
              "    .dataframe tbody tr th {\n",
              "        vertical-align: top;\n",
              "    }\n",
              "\n",
              "    .dataframe thead th {\n",
              "        text-align: right;\n",
              "    }\n",
              "</style>\n",
              "<table border=\"1\" class=\"dataframe\">\n",
              "  <thead>\n",
              "    <tr style=\"text-align: right;\">\n",
              "      <th></th>\n",
              "      <th>perimeter_se</th>\n",
              "      <th>symmetry_worst</th>\n",
              "      <th>perimeter_worst</th>\n",
              "      <th>concave points_se</th>\n",
              "      <th>id</th>\n",
              "      <th>concavity_se</th>\n",
              "      <th>texture_worst</th>\n",
              "      <th>texture_se</th>\n",
              "      <th>compactness_mean</th>\n",
              "      <th>area_se</th>\n",
              "      <th>...</th>\n",
              "      <th>perimeter_mean</th>\n",
              "      <th>fractal_dimension_worst</th>\n",
              "      <th>symmetry_mean</th>\n",
              "      <th>area_mean</th>\n",
              "      <th>area_worst</th>\n",
              "      <th>smoothness_mean</th>\n",
              "      <th>radius_worst</th>\n",
              "      <th>compactness_worst</th>\n",
              "      <th>smoothness_se</th>\n",
              "      <th>concavity_worst</th>\n",
              "    </tr>\n",
              "  </thead>\n",
              "  <tbody>\n",
              "    <tr>\n",
              "      <th>0</th>\n",
              "      <td>1.955</td>\n",
              "      <td>0.2305</td>\n",
              "      <td>83.51</td>\n",
              "      <td>0.015530</td>\n",
              "      <td>9111596</td>\n",
              "      <td>0.066630</td>\n",
              "      <td>28.18</td>\n",
              "      <td>1.5540</td>\n",
              "      <td>0.10640</td>\n",
              "      <td>20.24</td>\n",
              "      <td>...</td>\n",
              "      <td>76.83</td>\n",
              "      <td>0.09952</td>\n",
              "      <td>0.1349</td>\n",
              "      <td>432.0</td>\n",
              "      <td>507.2</td>\n",
              "      <td>0.06613</td>\n",
              "      <td>12.79</td>\n",
              "      <td>0.33990</td>\n",
              "      <td>0.006854</td>\n",
              "      <td>0.32180</td>\n",
              "    </tr>\n",
              "    <tr>\n",
              "      <th>1</th>\n",
              "      <td>2.155</td>\n",
              "      <td>0.2710</td>\n",
              "      <td>73.20</td>\n",
              "      <td>0.000000</td>\n",
              "      <td>871642</td>\n",
              "      <td>0.000000</td>\n",
              "      <td>19.20</td>\n",
              "      <td>1.9250</td>\n",
              "      <td>0.04302</td>\n",
              "      <td>21.98</td>\n",
              "      <td>...</td>\n",
              "      <td>67.49</td>\n",
              "      <td>0.06164</td>\n",
              "      <td>0.1928</td>\n",
              "      <td>349.6</td>\n",
              "      <td>408.3</td>\n",
              "      <td>0.08792</td>\n",
              "      <td>11.54</td>\n",
              "      <td>0.06791</td>\n",
              "      <td>0.008713</td>\n",
              "      <td>0.00000</td>\n",
              "    </tr>\n",
              "    <tr>\n",
              "      <th>2</th>\n",
              "      <td>1.164</td>\n",
              "      <td>0.2733</td>\n",
              "      <td>78.27</td>\n",
              "      <td>0.008849</td>\n",
              "      <td>8910748</td>\n",
              "      <td>0.012820</td>\n",
              "      <td>16.18</td>\n",
              "      <td>0.5293</td>\n",
              "      <td>0.07608</td>\n",
              "      <td>13.17</td>\n",
              "      <td>...</td>\n",
              "      <td>72.23</td>\n",
              "      <td>0.08022</td>\n",
              "      <td>0.1769</td>\n",
              "      <td>388.0</td>\n",
              "      <td>457.5</td>\n",
              "      <td>0.09834</td>\n",
              "      <td>12.32</td>\n",
              "      <td>0.15070</td>\n",
              "      <td>0.006472</td>\n",
              "      <td>0.12750</td>\n",
              "    </tr>\n",
              "    <tr>\n",
              "      <th>3</th>\n",
              "      <td>3.466</td>\n",
              "      <td>0.2866</td>\n",
              "      <td>125.40</td>\n",
              "      <td>0.022340</td>\n",
              "      <td>907914</td>\n",
              "      <td>0.079260</td>\n",
              "      <td>27.57</td>\n",
              "      <td>0.8749</td>\n",
              "      <td>0.22250</td>\n",
              "      <td>24.19</td>\n",
              "      <td>...</td>\n",
              "      <td>102.10</td>\n",
              "      <td>0.11550</td>\n",
              "      <td>0.2041</td>\n",
              "      <td>685.0</td>\n",
              "      <td>832.7</td>\n",
              "      <td>0.09947</td>\n",
              "      <td>16.35</td>\n",
              "      <td>0.70900</td>\n",
              "      <td>0.006965</td>\n",
              "      <td>0.90190</td>\n",
              "    </tr>\n",
              "    <tr>\n",
              "      <th>4</th>\n",
              "      <td>2.397</td>\n",
              "      <td>0.3207</td>\n",
              "      <td>96.31</td>\n",
              "      <td>0.010650</td>\n",
              "      <td>904689</td>\n",
              "      <td>0.034520</td>\n",
              "      <td>24.61</td>\n",
              "      <td>1.2990</td>\n",
              "      <td>0.07899</td>\n",
              "      <td>20.21</td>\n",
              "      <td>...</td>\n",
              "      <td>84.18</td>\n",
              "      <td>0.07247</td>\n",
              "      <td>0.1874</td>\n",
              "      <td>525.2</td>\n",
              "      <td>621.9</td>\n",
              "      <td>0.07351</td>\n",
              "      <td>14.13</td>\n",
              "      <td>0.23180</td>\n",
              "      <td>0.003629</td>\n",
              "      <td>0.16040</td>\n",
              "    </tr>\n",
              "    <tr>\n",
              "      <th>...</th>\n",
              "      <td>...</td>\n",
              "      <td>...</td>\n",
              "      <td>...</td>\n",
              "      <td>...</td>\n",
              "      <td>...</td>\n",
              "      <td>...</td>\n",
              "      <td>...</td>\n",
              "      <td>...</td>\n",
              "      <td>...</td>\n",
              "      <td>...</td>\n",
              "      <td>...</td>\n",
              "      <td>...</td>\n",
              "      <td>...</td>\n",
              "      <td>...</td>\n",
              "      <td>...</td>\n",
              "      <td>...</td>\n",
              "      <td>...</td>\n",
              "      <td>...</td>\n",
              "      <td>...</td>\n",
              "      <td>...</td>\n",
              "      <td>...</td>\n",
              "    </tr>\n",
              "    <tr>\n",
              "      <th>558</th>\n",
              "      <td>2.587</td>\n",
              "      <td>0.3151</td>\n",
              "      <td>162.30</td>\n",
              "      <td>0.008185</td>\n",
              "      <td>887549</td>\n",
              "      <td>0.021170</td>\n",
              "      <td>39.16</td>\n",
              "      <td>1.0330</td>\n",
              "      <td>0.10880</td>\n",
              "      <td>52.34</td>\n",
              "      <td>...</td>\n",
              "      <td>132.90</td>\n",
              "      <td>0.07999</td>\n",
              "      <td>0.1814</td>\n",
              "      <td>1288.0</td>\n",
              "      <td>1844.0</td>\n",
              "      <td>0.10000</td>\n",
              "      <td>24.33</td>\n",
              "      <td>0.29450</td>\n",
              "      <td>0.005043</td>\n",
              "      <td>0.37880</td>\n",
              "    </tr>\n",
              "    <tr>\n",
              "      <th>559</th>\n",
              "      <td>2.567</td>\n",
              "      <td>0.2107</td>\n",
              "      <td>93.96</td>\n",
              "      <td>0.004821</td>\n",
              "      <td>893548</td>\n",
              "      <td>0.002831</td>\n",
              "      <td>17.40</td>\n",
              "      <td>0.8285</td>\n",
              "      <td>0.03735</td>\n",
              "      <td>33.01</td>\n",
              "      <td>...</td>\n",
              "      <td>82.71</td>\n",
              "      <td>0.06580</td>\n",
              "      <td>0.1453</td>\n",
              "      <td>530.6</td>\n",
              "      <td>672.4</td>\n",
              "      <td>0.08352</td>\n",
              "      <td>14.73</td>\n",
              "      <td>0.05847</td>\n",
              "      <td>0.004148</td>\n",
              "      <td>0.01824</td>\n",
              "    </tr>\n",
              "    <tr>\n",
              "      <th>560</th>\n",
              "      <td>2.044</td>\n",
              "      <td>0.2506</td>\n",
              "      <td>98.84</td>\n",
              "      <td>0.009057</td>\n",
              "      <td>8813129</td>\n",
              "      <td>0.022590</td>\n",
              "      <td>23.60</td>\n",
              "      <td>0.8907</td>\n",
              "      <td>0.04994</td>\n",
              "      <td>24.68</td>\n",
              "      <td>...</td>\n",
              "      <td>84.55</td>\n",
              "      <td>0.07623</td>\n",
              "      <td>0.1496</td>\n",
              "      <td>546.4</td>\n",
              "      <td>708.8</td>\n",
              "      <td>0.08445</td>\n",
              "      <td>15.14</td>\n",
              "      <td>0.13110</td>\n",
              "      <td>0.006032</td>\n",
              "      <td>0.17860</td>\n",
              "    </tr>\n",
              "    <tr>\n",
              "      <th>561</th>\n",
              "      <td>2.099</td>\n",
              "      <td>0.2678</td>\n",
              "      <td>97.59</td>\n",
              "      <td>0.009366</td>\n",
              "      <td>862009</td>\n",
              "      <td>0.018720</td>\n",
              "      <td>25.94</td>\n",
              "      <td>1.3730</td>\n",
              "      <td>0.08165</td>\n",
              "      <td>25.22</td>\n",
              "      <td>...</td>\n",
              "      <td>86.60</td>\n",
              "      <td>0.06603</td>\n",
              "      <td>0.1638</td>\n",
              "      <td>555.1</td>\n",
              "      <td>699.4</td>\n",
              "      <td>0.10220</td>\n",
              "      <td>15.10</td>\n",
              "      <td>0.17510</td>\n",
              "      <td>0.005884</td>\n",
              "      <td>0.13810</td>\n",
              "    </tr>\n",
              "    <tr>\n",
              "      <th>562</th>\n",
              "      <td>2.344</td>\n",
              "      <td>0.2394</td>\n",
              "      <td>117.20</td>\n",
              "      <td>0.010330</td>\n",
              "      <td>9010872</td>\n",
              "      <td>0.018320</td>\n",
              "      <td>25.45</td>\n",
              "      <td>1.4390</td>\n",
              "      <td>0.08468</td>\n",
              "      <td>33.58</td>\n",
              "      <td>...</td>\n",
              "      <td>106.60</td>\n",
              "      <td>0.06469</td>\n",
              "      <td>0.1495</td>\n",
              "      <td>838.1</td>\n",
              "      <td>1009.0</td>\n",
              "      <td>0.09686</td>\n",
              "      <td>18.13</td>\n",
              "      <td>0.16790</td>\n",
              "      <td>0.007257</td>\n",
              "      <td>0.16630</td>\n",
              "    </tr>\n",
              "  </tbody>\n",
              "</table>\n",
              "<p>563 rows × 32 columns</p>\n",
              "</div>\n",
              "      <button class=\"colab-df-convert\" onclick=\"convertToInteractive('df-b3e1be0c-4807-4233-8bf6-b9967d87370c')\"\n",
              "              title=\"Convert this dataframe to an interactive table.\"\n",
              "              style=\"display:none;\">\n",
              "        \n",
              "  <svg xmlns=\"http://www.w3.org/2000/svg\" height=\"24px\"viewBox=\"0 0 24 24\"\n",
              "       width=\"24px\">\n",
              "    <path d=\"M0 0h24v24H0V0z\" fill=\"none\"/>\n",
              "    <path d=\"M18.56 5.44l.94 2.06.94-2.06 2.06-.94-2.06-.94-.94-2.06-.94 2.06-2.06.94zm-11 1L8.5 8.5l.94-2.06 2.06-.94-2.06-.94L8.5 2.5l-.94 2.06-2.06.94zm10 10l.94 2.06.94-2.06 2.06-.94-2.06-.94-.94-2.06-.94 2.06-2.06.94z\"/><path d=\"M17.41 7.96l-1.37-1.37c-.4-.4-.92-.59-1.43-.59-.52 0-1.04.2-1.43.59L10.3 9.45l-7.72 7.72c-.78.78-.78 2.05 0 2.83L4 21.41c.39.39.9.59 1.41.59.51 0 1.02-.2 1.41-.59l7.78-7.78 2.81-2.81c.8-.78.8-2.07 0-2.86zM5.41 20L4 18.59l7.72-7.72 1.47 1.35L5.41 20z\"/>\n",
              "  </svg>\n",
              "      </button>\n",
              "      \n",
              "  <style>\n",
              "    .colab-df-container {\n",
              "      display:flex;\n",
              "      flex-wrap:wrap;\n",
              "      gap: 12px;\n",
              "    }\n",
              "\n",
              "    .colab-df-convert {\n",
              "      background-color: #E8F0FE;\n",
              "      border: none;\n",
              "      border-radius: 50%;\n",
              "      cursor: pointer;\n",
              "      display: none;\n",
              "      fill: #1967D2;\n",
              "      height: 32px;\n",
              "      padding: 0 0 0 0;\n",
              "      width: 32px;\n",
              "    }\n",
              "\n",
              "    .colab-df-convert:hover {\n",
              "      background-color: #E2EBFA;\n",
              "      box-shadow: 0px 1px 2px rgba(60, 64, 67, 0.3), 0px 1px 3px 1px rgba(60, 64, 67, 0.15);\n",
              "      fill: #174EA6;\n",
              "    }\n",
              "\n",
              "    [theme=dark] .colab-df-convert {\n",
              "      background-color: #3B4455;\n",
              "      fill: #D2E3FC;\n",
              "    }\n",
              "\n",
              "    [theme=dark] .colab-df-convert:hover {\n",
              "      background-color: #434B5C;\n",
              "      box-shadow: 0px 1px 3px 1px rgba(0, 0, 0, 0.15);\n",
              "      filter: drop-shadow(0px 1px 2px rgba(0, 0, 0, 0.3));\n",
              "      fill: #FFFFFF;\n",
              "    }\n",
              "  </style>\n",
              "\n",
              "      <script>\n",
              "        const buttonEl =\n",
              "          document.querySelector('#df-b3e1be0c-4807-4233-8bf6-b9967d87370c button.colab-df-convert');\n",
              "        buttonEl.style.display =\n",
              "          google.colab.kernel.accessAllowed ? 'block' : 'none';\n",
              "\n",
              "        async function convertToInteractive(key) {\n",
              "          const element = document.querySelector('#df-b3e1be0c-4807-4233-8bf6-b9967d87370c');\n",
              "          const dataTable =\n",
              "            await google.colab.kernel.invokeFunction('convertToInteractive',\n",
              "                                                     [key], {});\n",
              "          if (!dataTable) return;\n",
              "\n",
              "          const docLinkHtml = 'Like what you see? Visit the ' +\n",
              "            '<a target=\"_blank\" href=https://colab.research.google.com/notebooks/data_table.ipynb>data table notebook</a>'\n",
              "            + ' to learn more about interactive tables.';\n",
              "          element.innerHTML = '';\n",
              "          dataTable['output_type'] = 'display_data';\n",
              "          await google.colab.output.renderOutput(dataTable, element);\n",
              "          const docLink = document.createElement('div');\n",
              "          docLink.innerHTML = docLinkHtml;\n",
              "          element.appendChild(docLink);\n",
              "        }\n",
              "      </script>\n",
              "    </div>\n",
              "  </div>\n",
              "  "
            ]
          },
          "metadata": {},
          "execution_count": 27
        }
      ],
      "source": [
        "#shuffling features\n",
        "df4 = df\n",
        "df4 = df.sample(frac = 1,axis = 1).sample(frac = 1).reset_index(drop = True)\n",
        "df4"
      ]
    },
    {
      "cell_type": "code",
      "execution_count": null,
      "metadata": {
        "id": "GspcYOfvUyJv"
      },
      "outputs": [],
      "source": [
        "x_PM4 = np.array(df4[columns])\n",
        "y_PM4 = np.array(df4['diagnosis'])"
      ]
    },
    {
      "cell_type": "code",
      "execution_count": null,
      "metadata": {
        "id": "ebAuCUdUU98m"
      },
      "outputs": [],
      "source": [
        "x_train_PM4 = x_PM4[:train_size]\n",
        "x_test_PM4 = x_PM4[train_size:]\n",
        "y_train_PM4= y_PM4[:train_size]\n",
        "y_test_PM4= y_PM4[train_size:]"
      ]
    },
    {
      "cell_type": "code",
      "execution_count": null,
      "metadata": {
        "colab": {
          "base_uri": "https://localhost:8080/"
        },
        "id": "VcrYnWXiVHls",
        "outputId": "d1f96b0f-1e23-42a4-d8d1-4f253a7aa99e"
      },
      "outputs": [
        {
          "output_type": "execute_result",
          "data": {
            "text/plain": [
              "0.9139784946236559"
            ]
          },
          "metadata": {},
          "execution_count": 30
        }
      ],
      "source": [
        "lr_PM4 = 0.01\n",
        "iter_PM4 = 100\n",
        "weights_PM4, bias_PM4, accuracy_PM4 = perceptron(x_train_PM4, y_train_PM4, lr_PM4, iter_PM4, x_test_PM4, y_test_PM4)\n",
        "accuracy_PM4"
      ]
    },
    {
      "cell_type": "markdown",
      "metadata": {
        "id": "aRzZreVcj9h5"
      },
      "source": [
        "# **PART-B FISCHER'S LINEAR DISCRIMINANT ANALYSIS**"
      ]
    },
    {
      "cell_type": "markdown",
      "metadata": {
        "id": "YcOeRphs3HVv"
      },
      "source": [
        "# Learning Task 1"
      ]
    },
    {
      "cell_type": "code",
      "execution_count": null,
      "metadata": {
        "id": "9gpxlPfPy1qN"
      },
      "outputs": [],
      "source": [
        "#NormalizedDataset\n",
        "df_lda = norm_df"
      ]
    },
    {
      "cell_type": "code",
      "execution_count": null,
      "metadata": {
        "id": "5u_FAj2szupi"
      },
      "outputs": [],
      "source": [
        "x_lda = np.array(norm_df[columns])\n",
        "y_lda = np.array(norm_df['diagnosis'])"
      ]
    },
    {
      "cell_type": "code",
      "execution_count": null,
      "metadata": {
        "id": "0C5fLkeU5nwV"
      },
      "outputs": [],
      "source": [
        "#Test-Train-Split\n",
        "train_size_lda = int(0.67 * len(norm_df))\n",
        "\n",
        "x_test_lda = x[train_size_lda:]\n",
        "x_train_lda = x[:train_size_lda]\n",
        "y_test_lda = y[train_size_lda:]\n",
        "y_train_lda = y[:train_size_lda]"
      ]
    },
    {
      "cell_type": "code",
      "execution_count": null,
      "metadata": {
        "id": "5OxbGho55zfs"
      },
      "outputs": [],
      "source": [
        "def plotLDAProjection(projection,y):\n",
        "    C1_ = np.where(y==1)[0]\n",
        "    C2_ = np.where(y==0)[0]\n",
        "    projection1 = []\n",
        "    projection2 = []\n",
        "    \n",
        "    for i in C1_:\n",
        "        projection1.append(projection[i][0])\n",
        "    for i in C2_:\n",
        "        projection2.append(projection[i][0])\n",
        "    \n",
        "    fig = plt.figure()\n",
        "    ax = fig.add_subplot(1, 1, 1)\n",
        "    ax.set_title('Projection of raw data onto W')\n",
        "    ax.set_xlabel('projection')\n",
        "    ax.set_ylabel('')\n",
        "    \n",
        "    ax.plot(projection1[:C1_.shape[0]],np.zeros(C1_.shape[0]), linestyle='None', marker='o', markersize=7, color='blue', label='M')\n",
        "    ax.plot(projection2[:C2_.shape[0]], np.zeros(C2_.shape[0]), linestyle='None', marker='o', markersize=7, color='red', label='B')\n",
        "    ax.legend()\n",
        "    fig.set_size_inches(7, 7)\n",
        "    fig.show()"
      ]
    },
    {
      "cell_type": "code",
      "execution_count": null,
      "metadata": {
        "colab": {
          "base_uri": "https://localhost:8080/",
          "height": 458
        },
        "id": "VJqwWcz5waYB",
        "outputId": "52456244-f1f4-49a4-e066-157842e317a5"
      },
      "outputs": [
        {
          "output_type": "display_data",
          "data": {
            "text/plain": [
              "<Figure size 504x504 with 1 Axes>"
            ],
            "image/png": "[encoded data removed]"
          },
          "metadata": {
            "needs_background": "light"
          }
        }
      ],
      "source": [
        "from sklearn.discriminant_analysis import LinearDiscriminantAnalysis as LDA\n",
        "\n",
        "#FDLM Reduction to 1 Dimension\n",
        "model = LDA(n_components = 1)\n",
        "\n",
        "x_lda_transformed = model.fit_transform(x_train_lda,y_train_lda)\n",
        "x_test_transformed = model.transform(x_test_lda)\n",
        "\n",
        "plotLDAProjection(x_lda_transformed,y_train_lda)"
      ]
    },
    {
      "cell_type": "code",
      "execution_count": null,
      "metadata": {
        "id": "buD3jYp834ei"
      },
      "outputs": [],
      "source": [
        "def roots (mean1, mean2, std1, std2):\n",
        "  a = 1/(2*std1**2) - 1/(2*std2**2)\n",
        "  b = mean2/(std2**2) - mean1/(std1**2)\n",
        "  c = mean1**2/(2*std1**2) - mean2**2/(2*std2**2) - np.log(std2/std1)\n",
        "\n",
        "  return np.roots([a,b,c])"
      ]
    },
    {
      "cell_type": "code",
      "execution_count": null,
      "metadata": {
        "id": "cWIAD5N_3-DZ"
      },
      "outputs": [],
      "source": [
        "def Compute_Discriminant(projection,y):\n",
        "  C1_ = np.where(y==1)[0]\n",
        "  C2_ = np.where(y==0)[0]\n",
        "  proj1 =[]\n",
        "  proj2 =[]\n",
        "  for i in C1_:\n",
        "    proj1.append(projection[i][0])\n",
        "  for i in C2_:\n",
        "    proj2.append(projection[i][0])\n",
        "  \n",
        "  m1, std1 = norm.fit(proj1)\n",
        "  m2, std2 = norm.fit(proj2)\n",
        "\n",
        "  max = np.array(projection).max()\n",
        "  min = np.array(projection).min()\n",
        "\n",
        "  root = roots(m1,m2,std1,std2)\n",
        "\n",
        "  for i in range(len(root)):\n",
        "    if root[i] < max and root[i] > min:\n",
        "      Discriminant = root[i]\n",
        "      \n",
        "\n",
        "      return Discriminant,proj1,proj2"
      ]
    },
    {
      "cell_type": "code",
      "execution_count": null,
      "metadata": {
        "id": "o3BEYf_O4Bne"
      },
      "outputs": [],
      "source": [
        "def plotNormal(projection,y,Discriminant):\n",
        "  C1_ = np.where(y==1)[0]\n",
        "  C2_ = np.where(y==0)[0]\n",
        "  proj1 =[]\n",
        "  proj2 =[]\n",
        "  for i in C1_:\n",
        "    proj1.append(projection[i][0])\n",
        "  for i in C2_:\n",
        "    proj2.append(projection[i][0])\n",
        "  \n",
        "  m1, std1 = norm.fit(proj1)\n",
        "  m2, std2 = norm.fit(proj2)\n",
        "\n",
        "  fig = plt.figure()\n",
        "  ax = fig.add_subplot(1,1,1)\n",
        "  ax.set_title(\"Normally Distributed Projections\")\n",
        "  ax.set_xlabel(\"Projection\")\n",
        "  ax.set_ylabel('')\n",
        "\n",
        "  Z1 = np.linspace(m1-5*std1,m1+5*std1,1000)\n",
        "  Z2 = np.linspace(m2-5*std2,m2+5*std2,1000)\n",
        "\n",
        "  ax.plot(Z1,norm.pdf(Z1,m1,std1),linestyle = 'None', marker = 'o',markersize=2, color='blue', label='M')\n",
        "  ax.plot(Z2,norm.pdf(Z2,m2,std2),linestyle = 'None', marker = 'o',markersize=2, color='red', label='B')\n",
        "  \n",
        "  plt.axvline(x=Discriminant,markersize=7,color='purple' ,label='line at x = {}'.format(Discriminant))  \n",
        "  ax.legend()\n",
        "  fig.set_size_inches(7,7)\n",
        "  fig.show()"
      ]
    },
    {
      "cell_type": "code",
      "execution_count": null,
      "metadata": {
        "colab": {
          "base_uri": "https://localhost:8080/",
          "height": 458
        },
        "id": "TP8hgvbg4SU7",
        "outputId": "99498a7c-a8fb-4bde-a596-8d407dbee513"
      },
      "outputs": [
        {
          "output_type": "display_data",
          "data": {
            "text/plain": [
              "<Figure size 504x504 with 1 Axes>"
            ],
            "image/png": "[encoded data removed]"
          },
          "metadata": {
            "needs_background": "light"
          }
        }
      ],
      "source": [
        "global Discriminant, proj1, proj2\n",
        "\n",
        "Discriminant, proj1, proj2 = Compute_Discriminant(x_lda_transformed,y_train_lda)\n",
        "plotNormal(x_lda_transformed,y_train_lda,Discriminant)"
      ]
    },
    {
      "cell_type": "code",
      "execution_count": null,
      "metadata": {
        "id": "XaUj1ey34_tU"
      },
      "outputs": [],
      "source": [
        "def metrics(Discriminant,projection,y):\n",
        "    C1_ = np.where(y==1)[0]\n",
        "    C2_ = np.where(y==0)[0]\n",
        "    proj1 = []\n",
        "    proj2 = []\n",
        "    for i in C1_:\n",
        "        proj1.append(projection[i][0])\n",
        "        pass\n",
        "    for i in C2_:\n",
        "        proj2.append(projection[i][0])\n",
        "\n",
        "    #Class Counts    \n",
        "    c_1 = 0\n",
        "    c_2 = 0\n",
        "\n",
        "    #Count of Results\n",
        "    truepos = 0\n",
        "    trueneg = 0\n",
        "    falpos = 0\n",
        "    falneg = 0\n",
        "\n",
        "    #Counting the Number of results\n",
        "    for i in proj1:\n",
        "            if(i>Discriminant):\n",
        "                c_1 = c_1 + 1\n",
        "    for i in proj2:\n",
        "        if(i>Discriminant):\n",
        "            c_2 = c_2 + 1\n",
        "\n",
        "#class label attributes\n",
        "    if(c_1>c_2):\n",
        "        for i in proj1:\n",
        "            if(i>=Discriminant):\n",
        "                truepos = truepos + 1\n",
        "            else:\n",
        "                falneg = falneg + 1\n",
        "            \n",
        "        for i in proj2:\n",
        "            if(i<=Discriminant):\n",
        "                trueneg = trueneg + 1\n",
        "            else:\n",
        "                falpos = falpos+1\n",
        "    else:\n",
        "        for i in proj2:\n",
        "            if(i>=Discriminant):\n",
        "                truepos = truepos + 1\n",
        "            else:\n",
        "                falneg = falneg + 1\n",
        "            \n",
        "        for i in proj1:\n",
        "            if(i<=Discriminant):\n",
        "                trueneg = trueneg + 1\n",
        "            else:\n",
        "                falpos = falpos+1\n",
        "     \n",
        "    \n",
        "    accuracy = (truepos+trueneg)/(truepos+trueneg+falpos+falneg)\n",
        "   \n",
        "    precision = truepos/(truepos+falpos)\n",
        "    recall = truepos/(truepos+falneg)\n",
        "    \n",
        "    #F1 score, no. of times a correct call has been made on the dataset\n",
        "    F1_score = 2*precision*recall/(precision+recall)\n",
        "    print(\"Accuracy : \",accuracy)\n",
        "    print(\"Precision : \", precision)\n",
        "    print(\"Recall: \", recall)\n",
        "    print(\"F1_score :\",F1_score)"
      ]
    },
    {
      "cell_type": "code",
      "execution_count": null,
      "metadata": {
        "colab": {
          "base_uri": "https://localhost:8080/"
        },
        "id": "gumxT7ft5H4M",
        "outputId": "686c6b81-4606-4824-ce19-f0e591f59b7c"
      },
      "outputs": [
        {
          "output_type": "stream",
          "name": "stdout",
          "text": [
            "Accuracy :  0.9615384615384616\n",
            "Precision :  0.9705882352941176\n",
            "Recall:  0.9295774647887324\n",
            "F1_score : 0.9496402877697842\n"
          ]
        }
      ],
      "source": [
        "metrics(Discriminant,x_test_transformed,y_test_lda)"
      ]
    },
    {
      "cell_type": "markdown",
      "metadata": {
        "id": "H2-PqlWE59Cy"
      },
      "source": [
        "# Learning Task 2"
      ]
    },
    {
      "cell_type": "code",
      "execution_count": null,
      "metadata": {
        "id": "2_QEkeb15zQE"
      },
      "outputs": [],
      "source": [
        "df_flda2 = df.sample(frac = 1,axis = 1).sample(frac = 1)"
      ]
    },
    {
      "cell_type": "code",
      "execution_count": null,
      "metadata": {
        "id": "5ILu-IY063Zp"
      },
      "outputs": [],
      "source": [
        "x_flda2 = np.array(df_flda2[columns])\n",
        "y_flda2 = np.array(df_flda2['diagnosis'])\n",
        "\n",
        "x_train_flda2 = x_flda2[:train_size]\n",
        "x_test_flda2 = x_flda2[train_size:]\n",
        "y_train_flda2= y_flda2[:train_size]\n",
        "y_test_flda2= y_flda2[train_size:]"
      ]
    },
    {
      "cell_type": "code",
      "execution_count": null,
      "metadata": {
        "colab": {
          "base_uri": "https://localhost:8080/",
          "height": 458
        },
        "id": "cXYsLltk8ZJ9",
        "outputId": "aaa9a880-95e2-4f0a-8767-cd5caf87612b"
      },
      "outputs": [
        {
          "output_type": "display_data",
          "data": {
            "text/plain": [
              "<Figure size 504x504 with 1 Axes>"
            ],
            "image/png": "[encoded data removed]"
          },
          "metadata": {
            "needs_background": "light"
          }
        }
      ],
      "source": [
        "x_flda2_transformed = model.fit_transform(x_train_flda2,y_train_flda2)\n",
        "x_test2_transformed = model.transform(x_test_flda2)\n",
        "plotLDAProjection(x_flda2_transformed,y_train_flda2)"
      ]
    },
    {
      "cell_type": "code",
      "execution_count": null,
      "metadata": {
        "colab": {
          "base_uri": "https://localhost:8080/",
          "height": 458
        },
        "id": "QmWv0a__9X1Y",
        "outputId": "abfc407c-722a-4549-c5c0-38b272bcd880"
      },
      "outputs": [
        {
          "output_type": "display_data",
          "data": {
            "text/plain": [
              "<Figure size 504x504 with 1 Axes>"
            ],
            "image/png": "[encoded data removed]"
          },
          "metadata": {
            "needs_background": "light"
          }
        }
      ],
      "source": [
        "global Discriminant2, proj1t, proj2t\n",
        "\n",
        "Discriminant2, proj1t, proj2t = Compute_Discriminant(x_flda2_transformed,y_train_flda2)\n",
        "\n",
        "plotNormal(x_flda2_transformed,y_train_flda2,Discriminant2)"
      ]
    },
    {
      "cell_type": "code",
      "execution_count": null,
      "metadata": {
        "colab": {
          "base_uri": "https://localhost:8080/"
        },
        "id": "yc6MwEcm9tZO",
        "outputId": "8bae5231-cbce-4a4a-db47-256a3ce875cf"
      },
      "outputs": [
        {
          "output_type": "stream",
          "name": "stdout",
          "text": [
            "Accuracy :  0.9516129032258065\n",
            "Precision :  0.9846153846153847\n",
            "Recall:  0.8888888888888888\n",
            "F1_score : 0.9343065693430657\n"
          ]
        }
      ],
      "source": [
        "metrics(Discriminant2,x_test2_transformed,y_test_flda2)"
      ]
    },
    {
      "cell_type": "markdown",
      "metadata": {
        "id": "eDjwHMlp4E-D"
      },
      "source": [
        "# **PART-C LOGISTIC REGRESSION**"
      ]
    },
    {
      "cell_type": "code",
      "execution_count": null,
      "metadata": {
        "id": "g3L8bfkZ4Klh"
      },
      "outputs": [],
      "source": [
        "def sigmoid_function(x):\n",
        "  return 1/(1+np.exp(-x))"
      ]
    },
    {
      "cell_type": "code",
      "execution_count": null,
      "metadata": {
        "id": "ltH2Fa5zvD3l"
      },
      "outputs": [],
      "source": [
        "def accuracy(x_test, y_test, w, b, prob_thresh):\n",
        "    z = np.dot(w.T, x_test) + b \n",
        "    a = sigmoid_function(z)\n",
        "    a = a>prob_thresh\n",
        "    a = np.array(a)\n",
        "    accur = (1 - np.sum(np.absolute(a-y_test))/y_test.shape[1])\n",
        "    return accur"
      ]
    },
    {
      "cell_type": "code",
      "execution_count": null,
      "metadata": {
        "id": "j-WphiAraBxm"
      },
      "outputs": [],
      "source": [
        "def batch(x,y, lr, iter):\n",
        "    m, n = x.T.shape\n",
        "    w = np.zeros((n,1))\n",
        "    bias = 0 \n",
        "    cost_list = []\n",
        "    for i in range(iter):\n",
        "        z = np.dot(w.T, x) + bias\n",
        "        a = sigmoid_function(z)\n",
        "        cost = -(1/m)*np.sum(y*np.log(10**-15+a)+(1-y)*np.log(10**-15+1-a))\n",
        "        dw = np.dot(a-y, x.T)/m\n",
        "        db = np.sum(a-y)/m\n",
        "        w = w - lr*dw.T\n",
        "        bias = bias - lr*db\n",
        "        cost_list.append(cost)\n",
        "        \n",
        "    return w, bias, cost_list\n",
        "\n"
      ]
    },
    {
      "cell_type": "code",
      "execution_count": null,
      "metadata": {
        "id": "6zd7WTm55S-X"
      },
      "outputs": [],
      "source": [
        "def stochastic(x,y, lr, iter):\n",
        "    m = x.shape[0]\n",
        "    n = x.shape[1]\n",
        "    W_iter = np.zeros((n,1))\n",
        "    bias = 0 \n",
        "    cost_list = []\n",
        "    for i in range(iter):\n",
        "        ran_idx= np.random.randint(0,m-1)\n",
        "        x_batch = x[ran_idx]\n",
        "        y_batch = y[ran_idx]\n",
        "        z = np.dot(W_iter.T, x_batch) + bias\n",
        "        a = sigmoid_function(z)\n",
        "        cost = -(1/m)*np.sum(y_batch*np.log(10**-15+a)+(1-y_batch)*np.log(10**-15+1-a))\n",
        "        dw = np.dot((a-y_batch.reshape(1,1)), x_batch.reshape(1,30))/m\n",
        "        db = np.sum(a-y_batch)/m\n",
        "        W_iter = W_iter - lr*dw.T\n",
        "        bias = bias - lr*db\n",
        "        cost_list.append(cost)\n",
        "       \n",
        "    return W_iter, bias, cost_list"
      ]
    },
    {
      "cell_type": "markdown",
      "metadata": {
        "id": "TPxluT79gCyh"
      },
      "source": [
        "# Learning Task 1 "
      ]
    },
    {
      "cell_type": "code",
      "execution_count": null,
      "metadata": {
        "colab": {
          "base_uri": "https://localhost:8080/"
        },
        "id": "VMnX-beBhhQF",
        "outputId": "e6d22ac0-83bb-4d6e-91e4-07adfcac10c1"
      },
      "outputs": [
        {
          "output_type": "execute_result",
          "data": {
            "text/plain": [
              "(30, 377)"
            ]
          },
          "metadata": {},
          "execution_count": 51
        }
      ],
      "source": [
        "x_train_LR = x_train.T\n",
        "y_train_LR = y_train.reshape(1,377)\n",
        "x_test_LR = x_test.T\n",
        "y_test_LR = y_test.reshape(1,186)\n",
        "x_train_LR.shape"
      ]
    },
    {
      "cell_type": "code",
      "execution_count": null,
      "metadata": {
        "colab": {
          "base_uri": "https://localhost:8080/"
        },
        "id": "5ShzniGmijrr",
        "outputId": "6e1a1946-aa32-4cf7-fbc3-17fbca917719"
      },
      "outputs": [
        {
          "output_type": "stream",
          "name": "stderr",
          "text": [
            "<ipython-input-47-e5ae8e525aa9>:2: RuntimeWarning: overflow encountered in exp\n",
            "  return 1/(1+np.exp(-x))\n"
          ]
        }
      ],
      "source": [
        "iter_batch_LR1 = 10000\n",
        "lr_batch_LR1 = 0.01\n",
        "W_batch_LR1, B_batch_LR1, cost_list_batch_LR1 = batch(x_train_LR, y_train_LR, lr_batch_LR1, iter_batch_LR1)"
      ]
    },
    {
      "cell_type": "code",
      "execution_count": null,
      "metadata": {
        "colab": {
          "base_uri": "https://localhost:8080/",
          "height": 265
        },
        "id": "hFpLpNjhqrCm",
        "outputId": "e903c6f1-2f68-4602-d0b8-81da0d663ba6"
      },
      "outputs": [
        {
          "output_type": "display_data",
          "data": {
            "text/plain": [
              "<Figure size 432x288 with 1 Axes>"
            ],
            "image/png": "[encoded data removed]"
          },
          "metadata": {
            "needs_background": "light"
          }
        }
      ],
      "source": [
        "plt.plot(np.arange(iter_batch_LR1), cost_list_batch_LR1)\n",
        "plt.show()"
      ]
    },
    {
      "cell_type": "code",
      "execution_count": null,
      "metadata": {
        "colab": {
          "base_uri": "https://localhost:8080/"
        },
        "id": "tmlSCVQFuaMB",
        "outputId": "1846e517-b352-42fd-e4ad-2b7601db0810"
      },
      "outputs": [
        {
          "output_type": "stream",
          "name": "stderr",
          "text": [
            "<ipython-input-47-e5ae8e525aa9>:2: RuntimeWarning: overflow encountered in exp\n",
            "  return 1/(1+np.exp(-x))\n"
          ]
        },
        {
          "output_type": "execute_result",
          "data": {
            "text/plain": [
              "0.9193548387096774"
            ]
          },
          "metadata": {},
          "execution_count": 54
        }
      ],
      "source": [
        "accuracy(x_test_LR, y_test_LR, W_batch_LR1, B_batch_LR1,0.5)"
      ]
    },
    {
      "cell_type": "markdown",
      "metadata": {
        "id": "1pN3bnrBs7yj"
      },
      "source": [
        "MINI"
      ]
    },
    {
      "cell_type": "code",
      "execution_count": null,
      "metadata": {
        "id": "YELNaWfhs8rQ"
      },
      "outputs": [],
      "source": [
        "x_mini = np.array_split(x_train_LR, 6, axis=1)\n",
        "y_mini = np.array_split(y_train_LR, 6, axis=1)"
      ]
    },
    {
      "cell_type": "code",
      "execution_count": null,
      "metadata": {
        "colab": {
          "base_uri": "https://localhost:8080/"
        },
        "id": "hEwnBpdbtMo8",
        "outputId": "f5fbf1bb-741e-4b3b-8395-8f4a5d2c9766"
      },
      "outputs": [
        {
          "output_type": "stream",
          "name": "stderr",
          "text": [
            "<ipython-input-47-e5ae8e525aa9>:2: RuntimeWarning: overflow encountered in exp\n",
            "  return 1/(1+np.exp(-x))\n"
          ]
        }
      ],
      "source": [
        "iter_mini_LR1 = 10000\n",
        "lr_mini_LR1 = 0.01\n",
        "w_mini_LR1 = np.zeros((x_train_LR.shape[0],1))\n",
        "b_mini_LR1 = 0\n",
        "cost_list_mini_LR1 = []\n",
        "for i in range(6):\n",
        "\t\twts, bias_mini_LR1, cl_mini_LR1 = batch(x_mini[i], y_mini[i], lr_mini_LR1, iter_mini_LR1)\n",
        "\t\tw_mini_LR1 += wts\n",
        "\t\tb_mini_LR1 += bias_mini_LR1\n",
        "\t\tcost_list_mini_LR1 +=  cl_mini_LR1"
      ]
    },
    {
      "cell_type": "code",
      "execution_count": null,
      "metadata": {
        "colab": {
          "base_uri": "https://localhost:8080/",
          "height": 265
        },
        "id": "lOD4-Sn_uDX7",
        "outputId": "732390b1-2681-43d0-f2af-b510dbdc4a63"
      },
      "outputs": [
        {
          "output_type": "display_data",
          "data": {
            "text/plain": [
              "<Figure size 432x288 with 1 Axes>"
            ],
            "image/png": "[encoded data removed]"
          },
          "metadata": {
            "needs_background": "light"
          }
        }
      ],
      "source": [
        "plt.plot(np.arange(iter_mini_LR1*6), cost_list_mini_LR1)\n",
        "plt.show()"
      ]
    },
    {
      "cell_type": "code",
      "execution_count": null,
      "metadata": {
        "colab": {
          "base_uri": "https://localhost:8080/"
        },
        "id": "DqzHK99FuJG0",
        "outputId": "72a1f2aa-bce6-4f99-a278-b0f527927406"
      },
      "outputs": [
        {
          "output_type": "stream",
          "name": "stderr",
          "text": [
            "<ipython-input-47-e5ae8e525aa9>:2: RuntimeWarning: overflow encountered in exp\n",
            "  return 1/(1+np.exp(-x))\n"
          ]
        },
        {
          "output_type": "execute_result",
          "data": {
            "text/plain": [
              "0.946236559139785"
            ]
          },
          "metadata": {},
          "execution_count": 58
        }
      ],
      "source": [
        "accuracy(x_test_LR, y_test_LR, w_mini_LR1, b_mini_LR1, 0.5)"
      ]
    },
    {
      "cell_type": "markdown",
      "metadata": {
        "id": "6Sqo3GyixNrM"
      },
      "source": [
        "STOCHASTIC"
      ]
    },
    {
      "cell_type": "code",
      "execution_count": null,
      "metadata": {
        "id": "zDx03JtukWCE"
      },
      "outputs": [],
      "source": [
        "x_stoch_LR1 = x_train\n",
        "y_stoch_LR1 = y_train"
      ]
    },
    {
      "cell_type": "code",
      "execution_count": null,
      "metadata": {
        "id": "HS4nWS64xPir"
      },
      "outputs": [],
      "source": [
        "iter_stoch_LR1 = 1000\n",
        "lr_stoch_LR1 = 0.01\n",
        "wt_stoch_LR1, b_stoch_LR1, cost_list_stoch_LR1 = stochastic(x_stoch_LR1, y_stoch_LR1, lr_stoch_LR1, iter_stoch_LR1)\n"
      ]
    },
    {
      "cell_type": "code",
      "source": [
        "plt.plot(np.arange(iter_stoch_LR1), cost_list_stoch_LR1)\n",
        "plt.show()"
      ],
      "metadata": {
        "colab": {
          "base_uri": "https://localhost:8080/",
          "height": 265
        },
        "id": "9yMM41sZd7Rg",
        "outputId": "a0c75017-9d9b-430b-9c8d-83c5b26d33ac"
      },
      "execution_count": null,
      "outputs": [
        {
          "output_type": "display_data",
          "data": {
            "text/plain": [
              "<Figure size 432x288 with 1 Axes>"
            ],
            "image/png": "[encoded data removed]"
          },
          "metadata": {
            "needs_background": "light"
          }
        }
      ]
    },
    {
      "cell_type": "code",
      "execution_count": null,
      "metadata": {
        "colab": {
          "base_uri": "https://localhost:8080/"
        },
        "id": "oxvD6FiHiDRd",
        "outputId": "9779bfe2-07e1-4970-a70b-281e519c7d90"
      },
      "outputs": [
        {
          "output_type": "execute_result",
          "data": {
            "text/plain": [
              "0.8172043010752688"
            ]
          },
          "metadata": {},
          "execution_count": 80
        }
      ],
      "source": [
        "accuracy(x_test_LR, y_test_LR, wt_stoch_LR1, b_stoch_LR1, 0.7)"
      ]
    },
    {
      "cell_type": "markdown",
      "metadata": {
        "id": "KGO60ObNgZpb"
      },
      "source": [
        "# *Learning Task 2*"
      ]
    },
    {
      "cell_type": "code",
      "execution_count": null,
      "metadata": {
        "colab": {
          "base_uri": "https://localhost:8080/"
        },
        "id": "QA1ygTdCjt7V",
        "outputId": "52143faa-06d6-46c4-c26b-8ff508a159a9"
      },
      "outputs": [
        {
          "output_type": "execute_result",
          "data": {
            "text/plain": [
              "(30, 381)"
            ]
          },
          "metadata": {},
          "execution_count": 63
        }
      ],
      "source": [
        "x_train_LR2 = x_norm_train.T\n",
        "y_train_LR2 = y_norm_train.reshape(1,381)\n",
        "x_test_LR2 = x_norm_test.T\n",
        "y_test_LR2 = y_norm_test.reshape(1,188)\n",
        "x_train_LR2.shape"
      ]
    },
    {
      "cell_type": "code",
      "execution_count": null,
      "metadata": {
        "id": "XPxnm-kWjuA5"
      },
      "outputs": [],
      "source": [
        "iter_batch_LR2 = 10000\n",
        "lr_batch_LR2 = 0.01\n",
        "w_batch_LR2, b_batch_LR2, cost_list_batch_LR2 = batch(x_train_LR2, y_train_LR2, lr_batch_LR2, iter_batch_LR2)"
      ]
    },
    {
      "cell_type": "code",
      "execution_count": null,
      "metadata": {
        "colab": {
          "base_uri": "https://localhost:8080/",
          "height": 265
        },
        "id": "QTKsMUnmjuD3",
        "outputId": "b450d25b-fe42-4396-98e7-a43584aa5b3a"
      },
      "outputs": [
        {
          "output_type": "display_data",
          "data": {
            "text/plain": [
              "<Figure size 432x288 with 1 Axes>"
            ],
            "image/png": "[encoded data removed]"
          },
          "metadata": {
            "needs_background": "light"
          }
        }
      ],
      "source": [
        "plt.plot(np.arange(iter_batch_LR2), cost_list_batch_LR2)\n",
        "plt.show()"
      ]
    },
    {
      "cell_type": "code",
      "execution_count": null,
      "metadata": {
        "colab": {
          "base_uri": "https://localhost:8080/"
        },
        "id": "9_C8QY50juGY",
        "outputId": "13f04da0-b56d-4186-8880-dd493fb06544"
      },
      "outputs": [
        {
          "output_type": "execute_result",
          "data": {
            "text/plain": [
              "0.9627659574468085"
            ]
          },
          "metadata": {},
          "execution_count": 66
        }
      ],
      "source": [
        "accuracy(x_test_LR2, y_test_LR2, w_batch_LR2, b_batch_LR2,0.5)"
      ]
    },
    {
      "cell_type": "markdown",
      "metadata": {
        "id": "Vj6VVbMjktAu"
      },
      "source": [
        "MINI"
      ]
    },
    {
      "cell_type": "code",
      "execution_count": null,
      "metadata": {
        "id": "DqFAZURsktw1"
      },
      "outputs": [],
      "source": [
        "x_mini = np.array_split(x_train_LR2, 6, axis=1)\n",
        "y_mini = np.array_split(y_train_LR2, 6, axis=1)"
      ]
    },
    {
      "cell_type": "code",
      "execution_count": null,
      "metadata": {
        "id": "uYNK_CkzkxaU"
      },
      "outputs": [],
      "source": [
        "iter_mini_LR2 = 10000\n",
        "lr_mini_LR2 = 0.01\n",
        "w_mini_LR2 = np.zeros((x_train_LR2.shape[0],1))\n",
        "b_mini_LR2 = 0\n",
        "cost_list_mini_LR2 = []\n",
        "for i in range(6):\n",
        "\twts_mini_LR2, bias_mini_LR2, cl_mini_LR2 = batch(x_mini[i], y_mini[i], lr_mini_LR2, iter_mini_LR2)\n",
        "\tw_mini_LR2 += wts_mini_LR2\n",
        "\tb_mini_LR2 += bias_mini_LR2\n",
        "\tcost_list_mini_LR2 +=  cl_mini_LR2"
      ]
    },
    {
      "cell_type": "code",
      "execution_count": null,
      "metadata": {
        "id": "KKZ8IdDokzqd",
        "colab": {
          "base_uri": "https://localhost:8080/",
          "height": 265
        },
        "outputId": "96fa3d32-5301-4995-ff44-6c3cfdf74c86"
      },
      "outputs": [
        {
          "output_type": "display_data",
          "data": {
            "text/plain": [
              "<Figure size 432x288 with 1 Axes>"
            ],
            "image/png": "[encoded data removed]"
          },
          "metadata": {
            "needs_background": "light"
          }
        }
      ],
      "source": [
        "plt.plot(np.arange(iter_mini_LR2*6), cost_list_mini_LR2)\n",
        "plt.show()"
      ]
    },
    {
      "cell_type": "code",
      "execution_count": null,
      "metadata": {
        "id": "XohWNSqmk1lY",
        "colab": {
          "base_uri": "https://localhost:8080/"
        },
        "outputId": "7b51ec10-eb6b-413c-dedb-cb3676fafe4e"
      },
      "outputs": [
        {
          "output_type": "execute_result",
          "data": {
            "text/plain": [
              "0.9680851063829787"
            ]
          },
          "metadata": {},
          "execution_count": 70
        }
      ],
      "source": [
        "accuracy(x_test_LR2, y_test_LR2, w_mini_LR2, b_mini_LR2, 0.7)"
      ]
    },
    {
      "cell_type": "markdown",
      "metadata": {
        "id": "z83NSb-lk3OA"
      },
      "source": [
        "STOCHASTIC"
      ]
    },
    {
      "cell_type": "code",
      "execution_count": null,
      "metadata": {
        "id": "6_u9OJIRk60d"
      },
      "outputs": [],
      "source": [
        "x_stoch_LR2 = x_norm_train\n",
        "y_stoch_LR2 = y_norm_train"
      ]
    },
    {
      "cell_type": "code",
      "execution_count": null,
      "metadata": {
        "id": "ajYJHLebk8TE"
      },
      "outputs": [],
      "source": [
        "iter_stoch_LR2 = 1000\n",
        "lr_stoch_LR2 = 0.01\n",
        "\n",
        "wt_stoch_LR2, b_stoch_LR2, cost_list_stoch_LR2 = stochastic(x_stoch_LR2, y_stoch_LR2, lr_stoch_LR2, iter_stoch_LR2)\n"
      ]
    },
    {
      "cell_type": "code",
      "source": [
        "plt.plot(np.arange(iter_stoch_LR2), cost_list_stoch_LR2)\n",
        "plt.show()"
      ],
      "metadata": {
        "colab": {
          "base_uri": "https://localhost:8080/",
          "height": 265
        },
        "id": "3C9ycPVlaXaM",
        "outputId": "2aaffc3a-a4b5-4730-c7f8-36b2e61a530c"
      },
      "execution_count": null,
      "outputs": [
        {
          "output_type": "display_data",
          "data": {
            "text/plain": [
              "<Figure size 432x288 with 1 Axes>"
            ],
            "image/png": "[encoded data removed]"
          },
          "metadata": {
            "needs_background": "light"
          }
        }
      ]
    },
    {
      "cell_type": "code",
      "execution_count": null,
      "metadata": {
        "id": "fyDuRkjRk8f0",
        "colab": {
          "base_uri": "https://localhost:8080/"
        },
        "outputId": "c909c7de-7669-4072-f6e9-e27b671dd384"
      },
      "outputs": [
        {
          "output_type": "execute_result",
          "data": {
            "text/plain": [
              "0.9042553191489362"
            ]
          },
          "metadata": {},
          "execution_count": 74
        }
      ],
      "source": [
        "accuracy(x_test_LR2, y_test_LR2, wt_stoch_LR2, b_stoch_LR2, 0.5)"
      ]
    }
  ],
  "metadata": {
    "colab": {
      "provenance": []
    },
    "kernelspec": {
      "display_name": "Python 3",
      "name": "python3"
    },
    "language_info": {
      "name": "python"
    }
  },
  "nbformat": 4,
  "nbformat_minor": 0
}